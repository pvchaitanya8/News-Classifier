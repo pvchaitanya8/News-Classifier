{
 "cells": [
  {
   "cell_type": "code",
   "execution_count": 1,
   "metadata": {},
   "outputs": [
    {
     "name": "stderr",
     "output_type": "stream",
     "text": [
      "C:\\Users\\venka\\AppData\\Local\\Temp\\ipykernel_15676\\4039476188.py:1: DeprecationWarning: \n",
      "Pyarrow will become a required dependency of pandas in the next major release of pandas (pandas 3.0),\n",
      "(to allow more performant data types, such as the Arrow string type, and better interoperability with other libraries)\n",
      "but was not found to be installed on your system.\n",
      "If this would cause problems for you,\n",
      "please provide us feedback at https://github.com/pandas-dev/pandas/issues/54466\n",
      "        \n",
      "  import pandas as pd\n"
     ]
    },
    {
     "name": "stdout",
     "output_type": "stream",
     "text": [
      "WARNING:tensorflow:From c:\\Users\\venka\\Desktop\\ML NEWS V2\\venv_news_class\\Lib\\site-packages\\keras\\src\\losses.py:2976: The name tf.losses.sparse_softmax_cross_entropy is deprecated. Please use tf.compat.v1.losses.sparse_softmax_cross_entropy instead.\n",
      "\n"
     ]
    },
    {
     "name": "stderr",
     "output_type": "stream",
     "text": [
      "Failed to detect the name of this notebook, you can set it manually with the WANDB_NOTEBOOK_NAME environment variable to enable code saving.\n",
      "\u001b[34m\u001b[1mwandb\u001b[0m: Currently logged in as: \u001b[33mvenkatachaitanya373\u001b[0m (\u001b[33mchaitanya8\u001b[0m). Use \u001b[1m`wandb login --relogin`\u001b[0m to force relogin\n"
     ]
    },
    {
     "data": {
      "text/html": [
       "Tracking run with wandb version 0.16.3"
      ],
      "text/plain": [
       "<IPython.core.display.HTML object>"
      ]
     },
     "metadata": {},
     "output_type": "display_data"
    },
    {
     "data": {
      "text/html": [
       "Run data is saved locally in <code>c:\\Users\\venka\\Desktop\\ML NEWS V2\\wandb\\run-20240213_200149-ya5i8i0o</code>"
      ],
      "text/plain": [
       "<IPython.core.display.HTML object>"
      ]
     },
     "metadata": {},
     "output_type": "display_data"
    },
    {
     "data": {
      "text/html": [
       "Syncing run <strong><a href='https://wandb.ai/chaitanya8/ag-news/runs/ya5i8i0o' target=\"_blank\">radiant-dragon-20</a></strong> to <a href='https://wandb.ai/chaitanya8/ag-news' target=\"_blank\">Weights & Biases</a> (<a href='https://wandb.me/run' target=\"_blank\">docs</a>)<br/>"
      ],
      "text/plain": [
       "<IPython.core.display.HTML object>"
      ]
     },
     "metadata": {},
     "output_type": "display_data"
    },
    {
     "data": {
      "text/html": [
       " View project at <a href='https://wandb.ai/chaitanya8/ag-news' target=\"_blank\">https://wandb.ai/chaitanya8/ag-news</a>"
      ],
      "text/plain": [
       "<IPython.core.display.HTML object>"
      ]
     },
     "metadata": {},
     "output_type": "display_data"
    },
    {
     "data": {
      "text/html": [
       " View run at <a href='https://wandb.ai/chaitanya8/ag-news/runs/ya5i8i0o' target=\"_blank\">https://wandb.ai/chaitanya8/ag-news/runs/ya5i8i0o</a>"
      ],
      "text/plain": [
       "<IPython.core.display.HTML object>"
      ]
     },
     "metadata": {},
     "output_type": "display_data"
    },
    {
     "name": "stdout",
     "output_type": "stream",
     "text": [
      "WARNING:tensorflow:From c:\\Users\\venka\\Desktop\\ML NEWS V2\\venv_news_class\\Lib\\site-packages\\keras\\src\\backend.py:873: The name tf.get_default_graph is deprecated. Please use tf.compat.v1.get_default_graph instead.\n",
      "\n"
     ]
    },
    {
     "name": "stderr",
     "output_type": "stream",
     "text": [
      "\u001b[34m\u001b[1mwandb\u001b[0m: \u001b[33mWARNING\u001b[0m The save_model argument by default saves the model in the HDF5 format that cannot save custom objects like subclassed models and custom layers. This behavior will be deprecated in a future release in favor of the SavedModel format. Meanwhile, the HDF5 model is saved as W&B files and the SavedModel as W&B Artifacts.\n"
     ]
    }
   ],
   "source": [
    "import pandas as pd\n",
    "import numpy as np\n",
    "import tensorflow as tf\n",
    "from termcolor import colored\n",
    "from tensorflow.keras.models import Sequential\n",
    "from tensorflow.keras.layers import Embedding, LSTM, Dense, Dropout, GlobalMaxPooling1D, Bidirectional\n",
    "from tensorflow.keras.preprocessing.text import Tokenizer\n",
    "from tensorflow.keras.optimizers import Adam\n",
    "from tensorflow.keras.preprocessing.sequence import pad_sequences\n",
    "from tensorflow.keras.callbacks import ModelCheckpoint, EarlyStopping\n",
    "import wandb\n",
    "from wandb.keras import WandbCallback\n",
    "wandb.login()\n",
    "WANDB_CONFIG = {'competition': 'AG News Classification Dataset', '_wandb_kernel': 'neuracort'}\n",
    "TRAIN_FILE_PATH = 'dataset/train.csv'\n",
    "TEST_FILE_PATH = 'dataset/test.csv'\n",
    "data = pd.read_csv(TRAIN_FILE_PATH)\n",
    "testdata = pd.read_csv(TEST_FILE_PATH)\n",
    "data.columns = ['ClassIndex', 'Title', 'Description']\n",
    "testdata.columns = ['ClassIndex', 'Title', 'Description']\n",
    "X_train = data['Title'] + \" \" + data['Description']\n",
    "y_train = data['ClassIndex'].apply(lambda x: x-1).values\n",
    "x_test = testdata['Title'] + \" \" + testdata['Description']\n",
    "y_test = testdata['ClassIndex'].apply(lambda x: x-1).values\n",
    "maxlen = X_train.map(lambda x: len(x.split())).max()\n",
    "vocab_size = 10000\n",
    "embed_size = 32\n",
    "tok = Tokenizer(num_words=vocab_size)\n",
    "tok.fit_on_texts(X_train.values)\n",
    "X_train = tok.texts_to_sequences(X_train)\n",
    "x_test = tok.texts_to_sequences(x_test)\n",
    "X_train = pad_sequences(X_train, maxlen=maxlen)\n",
    "x_test = pad_sequences(x_test, maxlen=maxlen)\n",
    "run = wandb.init(project='ag-news', config=WANDB_CONFIG)\n",
    "model = Sequential([\n",
    "    Embedding(vocab_size, embed_size, input_length=maxlen),\n",
    "    Bidirectional(LSTM(128, return_sequences=True)),\n",
    "    Bidirectional(LSTM(64, return_sequences=True)),\n",
    "    GlobalMaxPooling1D(),\n",
    "    Dense(1024),\n",
    "    Dropout(0.25),\n",
    "    Dense(512),\n",
    "    Dropout(0.25),\n",
    "    Dense(256),\n",
    "    Dropout(0.25),\n",
    "    Dense(128),\n",
    "    Dropout(0.25),\n",
    "    Dense(64),\n",
    "    Dropout(0.25),\n",
    "    Dense(4, activation='softmax')\n",
    "])\n",
    "callbacks = [\n",
    "    EarlyStopping(\n",
    "        monitor='val_accuracy',\n",
    "        min_delta=1e-4,\n",
    "        patience=4,\n",
    "        verbose=1\n",
    "    ),\n",
    "    ModelCheckpoint(\n",
    "        filepath='weights.h5',\n",
    "        monitor='val_accuracy',\n",
    "        mode='max',\n",
    "        save_best_only=True,\n",
    "        save_weights_only=True,\n",
    "        verbose=1\n",
    "    ),\n",
    "    WandbCallback()\n",
    "]"
   ]
  },
  {
   "cell_type": "code",
   "execution_count": 2,
   "metadata": {},
   "outputs": [
    {
     "name": "stdout",
     "output_type": "stream",
     "text": [
      "WARNING:tensorflow:Compiled the loaded model, but the compiled metrics have yet to be built. `model.compile_metrics` will be empty until you train or evaluate the model.\n"
     ]
    },
    {
     "name": "stderr",
     "output_type": "stream",
     "text": [
      "c:\\Users\\venka\\Desktop\\ML NEWS V2\\venv_news_class\\Lib\\site-packages\\keras\\src\\engine\\training.py:3103: UserWarning: You are saving your model as an HDF5 file via `model.save()`. This file format is considered legacy. We recommend using instead the native Keras format, e.g. `model.save('my_model.keras')`.\n",
      "  saving_api.save_model(\n"
     ]
    }
   ],
   "source": [
    "model.load_weights('weights.h5')\n",
    "model.save('model.hdf5')\n",
    "\n",
    "def modelDemo(news_text):\n",
    "    labels = ['World News', 'Sports News', 'Business News', 'Science-Technology News']\n",
    "    test_seq = pad_sequences(tok.texts_to_sequences(news_text), maxlen=maxlen)\n",
    "    test_preds = [labels[np.argmax(i)] for i in model.predict(test_seq)]\n",
    "    for news, label in zip(news_text, test_preds):\n",
    "        return('{} - {}'.format(colored(news, 'green'), colored(label, 'white')))"
   ]
  },
  {
   "cell_type": "markdown",
   "metadata": {},
   "source": [
    "# DEMO:"
   ]
  },
  {
   "cell_type": "code",
   "execution_count": 3,
   "metadata": {},
   "outputs": [
    {
     "name": "stdout",
     "output_type": "stream",
     "text": [
      "1/1 [==============================] - 2s 2s/step\n",
      "\u001b[32mNew evidence of virus risks from wildlife trade\u001b[0m - \u001b[97mScience-Technology News\u001b[0m\n"
     ]
    }
   ],
   "source": [
    "print(modelDemo(['New evidence of virus risks from wildlife trade']))"
   ]
  },
  {
   "cell_type": "code",
   "execution_count": 4,
   "metadata": {},
   "outputs": [
    {
     "name": "stdout",
     "output_type": "stream",
     "text": [
      "1/1 [==============================] - 0s 66ms/step\n",
      "\u001b[32mCoronavirus: Bank pumps £100bn into UK economy to aid recovery\u001b[0m - \u001b[97mBusiness News\u001b[0m\n"
     ]
    }
   ],
   "source": [
    "print(modelDemo(['Coronavirus: Bank pumps £100bn into UK economy to aid recovery']))"
   ]
  },
  {
   "cell_type": "code",
   "execution_count": 5,
   "metadata": {},
   "outputs": [
    {
     "name": "stdout",
     "output_type": "stream",
     "text": [
      "1/1 [==============================] - 0s 61ms/step\n",
      "\u001b[32mTrump's bid to end Obama-era immigration policy ruled unlawful\u001b[0m - \u001b[97mWorld News\u001b[0m\n"
     ]
    }
   ],
   "source": [
    "print(modelDemo(['Trump\\'s bid to end Obama-era immigration policy ruled unlawful']))"
   ]
  },
  {
   "cell_type": "code",
   "execution_count": 6,
   "metadata": {},
   "outputs": [
    {
     "name": "stdout",
     "output_type": "stream",
     "text": [
      "1/1 [==============================] - 0s 63ms/step\n",
      "\u001b[32mDavid Luiz’s future with Arsenal to be decided this week\u001b[0m - \u001b[97mSports News\u001b[0m\n"
     ]
    }
   ],
   "source": [
    "print(modelDemo(['David Luiz’s future with Arsenal to be decided this week']))"
   ]
  },
  {
   "cell_type": "code",
   "execution_count": 7,
   "metadata": {},
   "outputs": [
    {
     "name": "stdout",
     "output_type": "stream",
     "text": [
      "1/1 [==============================] - 0s 70ms/step\n",
      "\u001b[32mIndian Economic budget supports the underprivileged sections of society\u001b[0m - \u001b[97mBusiness News\u001b[0m\n"
     ]
    }
   ],
   "source": [
    "print(modelDemo(['Indian Economic budget supports the underprivileged sections of society']))"
   ]
  }
 ],
 "metadata": {
  "kernelspec": {
   "display_name": "venv_news_class",
   "language": "python",
   "name": "python3"
  },
  "language_info": {
   "codemirror_mode": {
    "name": "ipython",
    "version": 3
   },
   "file_extension": ".py",
   "mimetype": "text/x-python",
   "name": "python",
   "nbconvert_exporter": "python",
   "pygments_lexer": "ipython3",
   "version": "3.11.5"
  }
 },
 "nbformat": 4,
 "nbformat_minor": 2
}
